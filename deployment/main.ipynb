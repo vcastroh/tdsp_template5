{
 "cells": [
  {
   "cell_type": "code",
   "execution_count": null,
   "metadata": {},
   "outputs": [],
   "source": [
    "from fastapi import FastAPI\n",
    "from pydantic import BaseModel\n",
    "from typing import List\n",
    "import joblib\n",
    "\n",
    "class ApiInput(BaseModel):\n",
    "    gender: int\n",
    "    age: int\n",
    "    hypertension: int\n",
    "    heart_disease: int\n",
    "    ever_married: int\n",
    "    residence_type: int\n",
    "    avg_glucose_level: float\n",
    "    bmi: float\n",
    "    smoking_status: int\n",
    "    stroke: int\n",
    "    govt_job: int\n",
    "    never_worked: int\n",
    "    private: int\n",
    "    self_employed: int\n",
    "    children: int\n",
    "\n",
    "class ApiOutput(BaseModel):\n",
    "    prediction: int\n",
    "\n",
    "app = FastAPI()\n",
    "rf_model = joblib.load(\"random_forest_model.joblib\")\n",
    "\n",
    "@app.post(\"/predict\")\n",
    "def predict(data: ApiInput) -> ApiOutput:\n",
    "    prediction = rf_model.predict([[data.gender, data.age, data.hypertension, data.heart_disease, data.ever_married,\n",
    "                                    data.residence_type, data.avg_glucose_level, data.bmi, data.smoking_status,\n",
    "                                    data.stroke, data.govt_job, data.never_worked, data.private, data.self_employed,\n",
    "                                    data.children]])\n",
    "    output = ApiOutput(prediction=int(prediction[0]))\n",
    "    return output"
   ]
  }
 ],
 "metadata": {
  "language_info": {
   "name": "python"
  }
 },
 "nbformat": 4,
 "nbformat_minor": 2
}
