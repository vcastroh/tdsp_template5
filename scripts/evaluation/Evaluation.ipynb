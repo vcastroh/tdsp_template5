{
  "cells": [
    {
      "cell_type": "markdown",
      "metadata": {
        "id": "km219HciJGP_"
      },
      "source": [
        "# **Evaluación**"
      ]
    },
    {
      "cell_type": "code",
      "execution_count": 37,
      "metadata": {
        "colab": {
          "base_uri": "https://localhost:8080/"
        },
        "id": "-xxzQODPJBDP",
        "outputId": "b7a5db7f-91d3-448d-be48-3f6e8e49e5fb"
      },
      "outputs": [
        {
          "data": {
            "text/plain": [
              "dict_keys(['loss', 'binary_accuracy'])"
            ]
          },
          "execution_count": 37,
          "metadata": {},
          "output_type": "execute_result"
        }
      ],
      "source": [
        "history.history.keys()"
      ]
    },
    {
      "cell_type": "code",
      "execution_count": 38,
      "metadata": {
        "colab": {
          "base_uri": "https://localhost:8080/",
          "height": 472
        },
        "id": "lmwUXNPoJVil",
        "outputId": "c17b997f-76f1-4bea-9bf1-f1c3590f10c6"
      },
      "outputs": [
        {
          "data": {
            "image/png": "[encoded data removed]",
            "text/plain": [
              "<Figure size 640x480 with 1 Axes>"
            ]
          },
          "metadata": {},
          "output_type": "display_data"
        }
      ],
      "source": [
        "plt.plot(history.history['loss'])\n",
        "plt.plot(history.history['binary_accuracy'])\n",
        "plt.title('model accuracy')\n",
        "plt.ylabel('accuracy')\n",
        "plt.xlabel('epoch')\n",
        "plt.legend(['loss','binary_accuracy'], loc='upper left')\n",
        "plt.show()"
      ]
    },
    {
      "cell_type": "markdown",
      "metadata": {
        "id": "hVHnsyuK6DvM"
      },
      "source": [
        "Creo que el problema podría estar relacionado con el desequilibrio en nuestro conjunto de datos.\n",
        "\n",
        "Para abordar este desafío, planeo aplicar un método de sobremuestreo en la próxima sección, con el objetivo de equilibrar nuestro conjunto de datos y mejorar la calidad del trabajo."
      ]
    },
    {
      "cell_type": "markdown",
      "metadata": {
        "id": "PM5xR48bAC09"
      },
      "source": [
        "# **SMOTE**"
      ]
    },
    {
      "cell_type": "code",
      "execution_count": 39,
      "metadata": {
        "id": "VpIs6_BwJk_i"
      },
      "outputs": [],
      "source": [
        "from imblearn.over_sampling import SMOTE\n",
        "sm = SMOTE()\n",
        "X_oversampled, y_oversampled = sm.fit_resample(X, y)"
      ]
    },
    {
      "cell_type": "code",
      "execution_count": 40,
      "metadata": {
        "id": "f8KvAq0u6jff"
      },
      "outputs": [],
      "source": [
        "X_train, X_test, y_train, y_test = train_test_split(X_oversampled,\n",
        "                                                    y_oversampled, test_size = 0.2, random_state = 42)"
      ]
    },
    {
      "cell_type": "code",
      "execution_count": 41,
      "metadata": {
        "colab": {
          "base_uri": "https://localhost:8080/"
        },
        "id": "E3qB5Tbp6lHc",
        "outputId": "80d79f4d-4a7b-4678-db83-0ae4555219f5"
      },
      "outputs": [
        {
          "name": "stdout",
          "output_type": "stream",
          "text": [
            "Epoch 1/20\n",
            "61/61 [==============================] - 0s 2ms/step - loss: 0.6033 - binary_accuracy: 0.6587\n",
            "Epoch 2/20\n",
            "61/61 [==============================] - 0s 3ms/step - loss: 0.4582 - binary_accuracy: 0.7818\n",
            "Epoch 3/20\n",
            "61/61 [==============================] - 0s 3ms/step - loss: 0.4364 - binary_accuracy: 0.7961\n",
            "Epoch 4/20\n",
            "61/61 [==============================] - 0s 2ms/step - loss: 0.4272 - binary_accuracy: 0.7990\n",
            "Epoch 5/20\n",
            "61/61 [==============================] - 0s 2ms/step - loss: 0.4162 - binary_accuracy: 0.8074\n",
            "Epoch 6/20\n",
            "61/61 [==============================] - 0s 2ms/step - loss: 0.4104 - binary_accuracy: 0.8088\n",
            "Epoch 7/20\n",
            "61/61 [==============================] - 0s 2ms/step - loss: 0.4038 - binary_accuracy: 0.8111\n",
            "Epoch 8/20\n",
            "61/61 [==============================] - 0s 2ms/step - loss: 0.3983 - binary_accuracy: 0.8136\n",
            "Epoch 9/20\n",
            "61/61 [==============================] - 0s 2ms/step - loss: 0.3910 - binary_accuracy: 0.8161\n",
            "Epoch 10/20\n",
            "61/61 [==============================] - 0s 2ms/step - loss: 0.3874 - binary_accuracy: 0.8197\n",
            "Epoch 11/20\n",
            "61/61 [==============================] - 0s 2ms/step - loss: 0.3832 - binary_accuracy: 0.8201\n",
            "Epoch 12/20\n",
            "61/61 [==============================] - 0s 3ms/step - loss: 0.3768 - binary_accuracy: 0.8268\n",
            "Epoch 13/20\n",
            "61/61 [==============================] - 0s 2ms/step - loss: 0.3714 - binary_accuracy: 0.8299\n",
            "Epoch 14/20\n",
            "61/61 [==============================] - 0s 2ms/step - loss: 0.3667 - binary_accuracy: 0.8303\n",
            "Epoch 15/20\n",
            "61/61 [==============================] - 0s 3ms/step - loss: 0.3642 - binary_accuracy: 0.8362\n",
            "Epoch 16/20\n",
            "61/61 [==============================] - 0s 2ms/step - loss: 0.3584 - binary_accuracy: 0.8357\n",
            "Epoch 17/20\n",
            "61/61 [==============================] - 0s 2ms/step - loss: 0.3533 - binary_accuracy: 0.8397\n",
            "Epoch 18/20\n",
            "61/61 [==============================] - 0s 3ms/step - loss: 0.3512 - binary_accuracy: 0.8416\n",
            "Epoch 19/20\n",
            "61/61 [==============================] - 0s 3ms/step - loss: 0.3467 - binary_accuracy: 0.8422\n",
            "Epoch 20/20\n",
            "61/61 [==============================] - 0s 2ms/step - loss: 0.3416 - binary_accuracy: 0.8471\n"
          ]
        }
      ],
      "source": [
        "history2=model.fit(X_train,y_train,batch_size=128,epochs=20)"
      ]
    },
    {
      "cell_type": "code",
      "execution_count": 42,
      "metadata": {
        "colab": {
          "base_uri": "https://localhost:8080/",
          "height": 472
        },
        "id": "_KhTepUK6nXj",
        "outputId": "f11168db-d101-42c8-94e4-9888388006b3"
      },
      "outputs": [
        {
          "data": {
            "image/png": "[encoded data removed]",
            "text/plain": [
              "<Figure size 640x480 with 1 Axes>"
            ]
          },
          "metadata": {},
          "output_type": "display_data"
        }
      ],
      "source": [
        "plt.plot(history2.history['loss'])\n",
        "plt.plot(history2.history['binary_accuracy'])\n",
        "plt.title('model accuracy')\n",
        "plt.ylabel('accuracy')\n",
        "plt.xlabel('epoch')\n",
        "plt.legend(['loss','binary_accuracy'], loc='upper left')\n",
        "plt.show()"
      ]
    },
    {
      "cell_type": "code",
      "execution_count": 44,
      "metadata": {
        "colab": {
          "base_uri": "https://localhost:8080/"
        },
        "id": "fcyHFyJV-XgO",
        "outputId": "7e7aa852-add8-4669-9d76-b31c974ddff1"
      },
      "outputs": [
        {
          "name": "stdout",
          "output_type": "stream",
          "text": [
            "61/61 [==============================] - 0s 7ms/step\n",
            "Informe de Clasificación:\n",
            "              precision    recall  f1-score   support\n",
            "\n",
            "           0       0.88      0.77      0.82       975\n",
            "           1       0.79      0.90      0.84       970\n",
            "\n",
            "    accuracy                           0.83      1945\n",
            "   macro avg       0.84      0.83      0.83      1945\n",
            "weighted avg       0.84      0.83      0.83      1945\n",
            "\n",
            "Matriz de Confusión:\n",
            "[[747 228]\n",
            " [101 869]]\n"
          ]
        }
      ],
      "source": [
        "probabilidades = model.predict(X_test)\n",
        "modely = (probabilidades > 0.5).astype(\"int32\")\n",
        "print(\"Informe de Clasificación:\")\n",
        "print(classification_report(y_test, modely))\n",
        "print(\"Matriz de Confusión:\")\n",
        "print(confusion_matrix(y_test, modely))"
      ]
    },
    {
      "cell_type": "markdown",
      "metadata": {
        "id": "L9aeVFDW606l"
      },
      "source": [
        "El resultado del uso de datos de sobremuestreo es bastante bueno, ya que uestra un 85% de tasa de verdaderos positivos\n",
        "Ahora vamos a ver qué tan bueno es nuestro nuevo modelo para predecir los datos originales."
      ]
    },
    {
      "cell_type": "code",
      "execution_count": 46,
      "metadata": {
        "colab": {
          "base_uri": "https://localhost:8080/"
        },
        "id": "X2dHJgaM-mJY",
        "outputId": "a8160a75-2001-476d-bf61-f7a775c4097c"
      },
      "outputs": [
        {
          "name": "stdout",
          "output_type": "stream",
          "text": [
            "40/40 [==============================] - 0s 3ms/step\n",
            "Informe de Clasificación:\n",
            "              precision    recall  f1-score   support\n",
            "\n",
            "           0       0.99      0.79      0.88      1203\n",
            "           1       0.21      0.88      0.34        75\n",
            "\n",
            "    accuracy                           0.80      1278\n",
            "   macro avg       0.60      0.84      0.61      1278\n",
            "weighted avg       0.94      0.80      0.85      1278\n",
            "\n",
            "Matriz de Confusión:\n",
            "[[955 248]\n",
            " [  9  66]]\n"
          ]
        }
      ],
      "source": [
        "probabilidades = model.predict(val_x)\n",
        "modely = (probabilidades > 0.5).astype(\"int32\")\n",
        "print(\"Informe de Clasificación:\")\n",
        "print(classification_report(val_y, modely))\n",
        "print(\"Matriz de Confusión:\")\n",
        "print(confusion_matrix(val_y, modely))"
      ]
    },
    {
      "cell_type": "markdown",
      "metadata": {
        "id": "pVvALfWF7Oe2"
      },
      "source": [
        "### KNeighborsClassifier"
      ]
    },
    {
      "cell_type": "code",
      "execution_count": 47,
      "metadata": {
        "id": "-PMx8sSq7N86"
      },
      "outputs": [],
      "source": [
        "from sklearn.neighbors import KNeighborsClassifier"
      ]
    },
    {
      "cell_type": "code",
      "execution_count": 48,
      "metadata": {
        "colab": {
          "base_uri": "https://localhost:8080/"
        },
        "id": "wjpsurrS7RfB",
        "outputId": "1c370d43-7f37-46de-b69e-efb38b45563c"
      },
      "outputs": [
        {
          "name": "stdout",
          "output_type": "stream",
          "text": [
            "[[804 171]\n",
            " [ 21 949]]\n",
            "              precision    recall  f1-score   support\n",
            "\n",
            "           0       0.97      0.82      0.89       975\n",
            "           1       0.85      0.98      0.91       970\n",
            "\n",
            "    accuracy                           0.90      1945\n",
            "   macro avg       0.91      0.90      0.90      1945\n",
            "weighted avg       0.91      0.90      0.90      1945\n",
            "\n"
          ]
        }
      ],
      "source": [
        "knn = KNeighborsClassifier()\n",
        "knn.fit(X_train, y_train)\n",
        "knn_pred = knn.predict(X_test)\n",
        "print(confusion_matrix(y_test,knn_pred ))\n",
        "print(classification_report(y_test,knn_pred))"
      ]
    },
    {
      "cell_type": "code",
      "execution_count": 49,
      "metadata": {
        "colab": {
          "base_uri": "https://localhost:8080/"
        },
        "id": "NaaeirNM7aN7",
        "outputId": "44f53d30-fb77-4379-a61a-833271ac184c"
      },
      "outputs": [
        {
          "name": "stdout",
          "output_type": "stream",
          "text": [
            "[[1047  156]\n",
            " [   1   74]]\n",
            "              precision    recall  f1-score   support\n",
            "\n",
            "           0       1.00      0.87      0.93      1203\n",
            "           1       0.32      0.99      0.49        75\n",
            "\n",
            "    accuracy                           0.88      1278\n",
            "   macro avg       0.66      0.93      0.71      1278\n",
            "weighted avg       0.96      0.88      0.90      1278\n",
            "\n"
          ]
        }
      ],
      "source": [
        "knn_pred = knn.predict(val_x)\n",
        "print(confusion_matrix(val_y,knn_pred ))\n",
        "print(classification_report(val_y,knn_pred))"
      ]
    },
    {
      "cell_type": "markdown",
      "metadata": {
        "id": "hzNoPTQd7jHr"
      },
      "source": [
        "### DecisionTreeClassifier"
      ]
    },
    {
      "cell_type": "code",
      "execution_count": 50,
      "metadata": {
        "id": "Onag9jFU7fiU"
      },
      "outputs": [],
      "source": [
        "from sklearn.tree import DecisionTreeClassifier"
      ]
    },
    {
      "cell_type": "code",
      "execution_count": 51,
      "metadata": {
        "colab": {
          "base_uri": "https://localhost:8080/"
        },
        "id": "24qNv31G7n3H",
        "outputId": "e597faf3-9c88-411e-d32f-4d2a27fbc95d"
      },
      "outputs": [
        {
          "name": "stdout",
          "output_type": "stream",
          "text": [
            "[[888  87]\n",
            " [ 84 886]]\n",
            "              precision    recall  f1-score   support\n",
            "\n",
            "           0       0.91      0.91      0.91       975\n",
            "           1       0.91      0.91      0.91       970\n",
            "\n",
            "    accuracy                           0.91      1945\n",
            "   macro avg       0.91      0.91      0.91      1945\n",
            "weighted avg       0.91      0.91      0.91      1945\n",
            "\n"
          ]
        }
      ],
      "source": [
        "dt = DecisionTreeClassifier()\n",
        "dt.fit(X_train, y_train)\n",
        "dt_pred = dt.predict(X_test)\n",
        "print(confusion_matrix(y_test,dt_pred ))\n",
        "print(classification_report(y_test, dt_pred))"
      ]
    },
    {
      "cell_type": "code",
      "execution_count": 52,
      "metadata": {
        "colab": {
          "base_uri": "https://localhost:8080/"
        },
        "id": "g89-I8L_7p8r",
        "outputId": "62fcef35-9e08-477a-e9ed-bc9521b5fb9f"
      },
      "outputs": [
        {
          "name": "stdout",
          "output_type": "stream",
          "text": [
            "[[1185   18]\n",
            " [   7   68]]\n",
            "              precision    recall  f1-score   support\n",
            "\n",
            "           0       0.99      0.99      0.99      1203\n",
            "           1       0.79      0.91      0.84        75\n",
            "\n",
            "    accuracy                           0.98      1278\n",
            "   macro avg       0.89      0.95      0.92      1278\n",
            "weighted avg       0.98      0.98      0.98      1278\n",
            "\n"
          ]
        }
      ],
      "source": [
        "dt_pred = dt.predict(val_x)\n",
        "print(confusion_matrix(val_y,dt_pred ))\n",
        "print(classification_report(val_y, dt_pred))"
      ]
    },
    {
      "cell_type": "markdown",
      "metadata": {
        "id": "Vl2bLo1V71JP"
      },
      "source": [
        "### RandomForestClassifier"
      ]
    },
    {
      "cell_type": "code",
      "execution_count": 53,
      "metadata": {
        "id": "VZlnlFGi7y2x"
      },
      "outputs": [],
      "source": [
        "from sklearn.ensemble import RandomForestClassifier"
      ]
    },
    {
      "cell_type": "code",
      "execution_count": 54,
      "metadata": {
        "colab": {
          "base_uri": "https://localhost:8080/"
        },
        "id": "PsXYqEvf72FY",
        "outputId": "12c6cbdc-1f8d-43e9-974d-6695fe76aade"
      },
      "outputs": [
        {
          "name": "stdout",
          "output_type": "stream",
          "text": [
            "[[3886    0]\n",
            " [   0 3891]]\n",
            "              precision    recall  f1-score   support\n",
            "\n",
            "           0       1.00      1.00      1.00      3886\n",
            "           1       1.00      1.00      1.00      3891\n",
            "\n",
            "    accuracy                           1.00      7777\n",
            "   macro avg       1.00      1.00      1.00      7777\n",
            "weighted avg       1.00      1.00      1.00      7777\n",
            "\n"
          ]
        }
      ],
      "source": [
        "rf = RandomForestClassifier(random_state=42)\n",
        "rf.fit(X_train, y_train)\n",
        "rf_pred = rf.predict(X_train)\n",
        "print(confusion_matrix(y_train, rf_pred))\n",
        "print(classification_report(y_train,rf_pred ))"
      ]
    },
    {
      "cell_type": "code",
      "execution_count": 55,
      "metadata": {
        "colab": {
          "base_uri": "https://localhost:8080/"
        },
        "id": "apKqhr1X74Yn",
        "outputId": "f669992c-6579-4cbb-bfd8-116e1fb888ca"
      },
      "outputs": [
        {
          "name": "stdout",
          "output_type": "stream",
          "text": [
            "[[1188   15]\n",
            " [   3   72]]\n",
            "              precision    recall  f1-score   support\n",
            "\n",
            "           0       1.00      0.99      0.99      1203\n",
            "           1       0.83      0.96      0.89        75\n",
            "\n",
            "    accuracy                           0.99      1278\n",
            "   macro avg       0.91      0.97      0.94      1278\n",
            "weighted avg       0.99      0.99      0.99      1278\n",
            "\n"
          ]
        }
      ],
      "source": [
        "rf_pred = rf.predict(val_x)\n",
        "print(confusion_matrix(val_y, rf_pred))\n",
        "print(classification_report(val_y,rf_pred ))"
      ]
    },
    {
      "cell_type": "markdown",
      "metadata": {
        "id": "jJmbAXeK_1GI"
      },
      "source": [
        "# **Conclusiones**"
      ]
    },
    {
      "cell_type": "markdown",
      "metadata": {
        "id": "iTGPZEx5_4c_"
      },
      "source": [
        "En este proyecto, se exploraron y compararon varios modelos de machine learning, incluyendo Redes Neuronales Artificiales (ANN), Bosque Aleatorio y Regresión Logística, con el objetivo de realizar predicciones. Luego de realizar varios modelos se encontró que el conjunto de datos presentaba un desequilibrio significativo en la distribución de clases, lo que generó desafíos en la identificación de casos positivos.\n",
        "\n",
        "El modelo de Red Neuronal Artificial (ANN) inicial, a pesar de su arquitectura elaborada, mostró limitaciones en la identificación de casos positivos, evidenciado por un bajo F1-score. Los otros modelos, tales como, Bosque Aleatorio y Regresión Logística, también se vieron afectados por el desequilibrio de clases.\n",
        "\n",
        "Para abordar este problema, se implementó la técnica de sobremuestreo SMOTE, lo que condujo a mejoras en la capacidad del modelo de Red Neuronal para identificar casos positivos. Sin embargo, al evaluar estos modelos en el conjunto de datos original, persistieron las limitaciones en la identificación de casos positivos.\n",
        "\n",
        "La evaluación de modelos adicionales, como KNeighborsClassifier, DecisionTreeClassifier y RandomForestClassifier, reveló que algunos de ellos ofrecían un rendimiento más robusto en la identificación de casos positivos. DecisionTreeClassifier y RandomForestClassifier mostraron buenos resultados en la identificación de casos positivos.\n",
        "\n",
        "A pesar de las mejoras observadas con datos sobremuestreados, la evaluación final en el conjunto de datos original subraya las limitaciones persistentes en la identificación de casos positivos, lo que podría resultar en la falta de tratamiento para personas que realmente lo necesitan. Por lo anterior es importante hacer una exploración continua de técnicas de manejo de desequilibrio, ajuste de modelos y posiblemente la recopilación de datos adicionales para mejorar la generalización y robustez del modelo en contextos clínicos y éticos."
      ]
    }
  ],
  "metadata": {
    "colab": {
      "provenance": []
    },
    "kernelspec": {
      "display_name": "Python 3",
      "name": "python3"
    },
    "language_info": {
      "name": "python"
    }
  },
  "nbformat": 4,
  "nbformat_minor": 0
}
