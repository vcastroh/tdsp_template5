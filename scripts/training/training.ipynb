{
  "cells": [
    {
      "cell_type": "markdown",
      "metadata": {
        "id": "wBtR-tkoFiZE"
      },
      "source": [
        "Entrenamiento"
      ]
    },
    {
      "cell_type": "markdown",
      "metadata": {
        "id": "kGihXI20FqM9"
      },
      "source": [
        "En esta sección vamos a usar modelos de ANN, bosque aleatorio y regresión para hacer predicciones."
      ]
    },
    {
      "cell_type": "code",
      "execution_count": 25,
      "metadata": {
        "id": "ET25ANSrFkdb"
      },
      "outputs": [],
      "source": [
        "from keras.models import Sequential\n",
        "from keras.layers import Dense, Dropout\n",
        "from keras import metrics"
      ]
    },
    {
      "cell_type": "code",
      "execution_count": 26,
      "metadata": {
        "colab": {
          "base_uri": "https://localhost:8080/"
        },
        "id": "EUju8pxUGILB",
        "outputId": "545187df-5eca-49bf-b3b0-bc6bd02a289a"
      },
      "outputs": [
        {
          "data": {
            "text/plain": [
              "14"
            ]
          },
          "execution_count": 26,
          "metadata": {},
          "output_type": "execute_result"
        }
      ],
      "source": [
        "X.shape[1]"
      ]
    },
    {
      "cell_type": "markdown",
      "metadata": {
        "id": "EoWu2FnxGLwI"
      },
      "source": [
        "### ANN Modelo"
      ]
    },
    {
      "cell_type": "code",
      "execution_count": 27,
      "metadata": {
        "id": "fuM8_7WAGLMg"
      },
      "outputs": [],
      "source": [
        "def model():\n",
        "    model=Sequential()\n",
        "    model.add(Dense(32,input_dim=(14),activation='relu'))\n",
        "    model.add(Dense(128, activation='relu'))\n",
        "    model.add(Dense(8, activation='relu'))\n",
        "    model.add(Dense(1, activation='sigmoid'))\n",
        "    model.compile(optimizer ='adam', loss='binary_crossentropy',metrics=['binary_accuracy'])\n",
        "    return model"
      ]
    },
    {
      "cell_type": "code",
      "execution_count": 28,
      "metadata": {
        "colab": {
          "base_uri": "https://localhost:8080/"
        },
        "id": "94Gyivu0GSvn",
        "outputId": "379f6210-5295-48b7-b4c2-1de790e610a4"
      },
      "outputs": [
        {
          "name": "stdout",
          "output_type": "stream",
          "text": [
            "Model: \"sequential\"\n",
            "_________________________________________________________________\n",
            " Layer (type)                Output Shape              Param #   \n",
            "=================================================================\n",
            " dense (Dense)               (None, 32)                480       \n",
            "                                                                 \n",
            " dense_1 (Dense)             (None, 128)               4224      \n",
            "                                                                 \n",
            " dense_2 (Dense)             (None, 8)                 1032      \n",
            "                                                                 \n",
            " dense_3 (Dense)             (None, 1)                 9         \n",
            "                                                                 \n",
            "=================================================================\n",
            "Total params: 5745 (22.44 KB)\n",
            "Trainable params: 5745 (22.44 KB)\n",
            "Non-trainable params: 0 (0.00 Byte)\n",
            "_________________________________________________________________\n"
          ]
        }
      ],
      "source": [
        "model=model()\n",
        "model.summary()"
      ]
    },
    {
      "cell_type": "code",
      "execution_count": 29,
      "metadata": {
        "colab": {
          "base_uri": "https://localhost:8080/"
        },
        "id": "uMk1jl1jGWK0",
        "outputId": "e06170af-38b2-42a5-ddf1-f29ab4f82eb0"
      },
      "outputs": [
        {
          "name": "stdout",
          "output_type": "stream",
          "text": [
            "Epoch 1/20\n",
            "30/30 [==============================] - 1s 5ms/step - loss: 0.5769 - binary_accuracy: 0.8186\n",
            "Epoch 2/20\n",
            "30/30 [==============================] - 0s 4ms/step - loss: 0.2455 - binary_accuracy: 0.9546\n",
            "Epoch 3/20\n",
            "30/30 [==============================] - 0s 4ms/step - loss: 0.1976 - binary_accuracy: 0.9546\n",
            "Epoch 4/20\n",
            "30/30 [==============================] - 0s 4ms/step - loss: 0.1846 - binary_accuracy: 0.9546\n",
            "Epoch 5/20\n",
            "30/30 [==============================] - 0s 4ms/step - loss: 0.1757 - binary_accuracy: 0.9546\n",
            "Epoch 6/20\n",
            "30/30 [==============================] - 0s 5ms/step - loss: 0.1702 - binary_accuracy: 0.9546\n",
            "Epoch 7/20\n",
            "30/30 [==============================] - 0s 5ms/step - loss: 0.1659 - binary_accuracy: 0.9546\n",
            "Epoch 8/20\n",
            "30/30 [==============================] - 0s 4ms/step - loss: 0.1624 - binary_accuracy: 0.9546\n",
            "Epoch 9/20\n",
            "30/30 [==============================] - 0s 4ms/step - loss: 0.1595 - binary_accuracy: 0.9546\n",
            "Epoch 10/20\n",
            "30/30 [==============================] - 0s 4ms/step - loss: 0.1578 - binary_accuracy: 0.9546\n",
            "Epoch 11/20\n",
            "30/30 [==============================] - 0s 4ms/step - loss: 0.1554 - binary_accuracy: 0.9546\n",
            "Epoch 12/20\n",
            "30/30 [==============================] - 0s 3ms/step - loss: 0.1539 - binary_accuracy: 0.9546\n",
            "Epoch 13/20\n",
            "30/30 [==============================] - 0s 4ms/step - loss: 0.1525 - binary_accuracy: 0.9546\n",
            "Epoch 14/20\n",
            "30/30 [==============================] - 0s 4ms/step - loss: 0.1514 - binary_accuracy: 0.9546\n",
            "Epoch 15/20\n",
            "30/30 [==============================] - 0s 4ms/step - loss: 0.1509 - binary_accuracy: 0.9546\n",
            "Epoch 16/20\n",
            "30/30 [==============================] - 0s 4ms/step - loss: 0.1496 - binary_accuracy: 0.9546\n",
            "Epoch 17/20\n",
            "30/30 [==============================] - 0s 4ms/step - loss: 0.1483 - binary_accuracy: 0.9546\n",
            "Epoch 18/20\n",
            "30/30 [==============================] - 0s 4ms/step - loss: 0.1479 - binary_accuracy: 0.9546\n",
            "Epoch 19/20\n",
            "30/30 [==============================] - 0s 4ms/step - loss: 0.1468 - binary_accuracy: 0.9546\n",
            "Epoch 20/20\n",
            "30/30 [==============================] - 0s 4ms/step - loss: 0.1460 - binary_accuracy: 0.9546\n"
          ]
        }
      ],
      "source": [
        "history=model.fit(train_x,train_y,batch_size=128,epochs=20)"
      ]
    },
    {
      "cell_type": "code",
      "execution_count": 30,
      "metadata": {
        "id": "lWvJ73XkGctb"
      },
      "outputs": [],
      "source": [
        "from sklearn.metrics import (classification_report, accuracy_score, precision_score,\n",
        "                             recall_score, f1_score,confusion_matrix)"
      ]
    },
    {
      "cell_type": "code",
      "execution_count": 31,
      "metadata": {
        "colab": {
          "base_uri": "https://localhost:8080/"
        },
        "id": "B6u4VktGHQ7Z",
        "outputId": "4d754499-bfca-4df5-bcdc-a8b124f318a9"
      },
      "outputs": [
        {
          "name": "stdout",
          "output_type": "stream",
          "text": [
            "40/40 [==============================] - 0s 2ms/step\n",
            "[[0]\n",
            " [0]\n",
            " [0]\n",
            " ...\n",
            " [0]\n",
            " [0]\n",
            " [0]]\n",
            "0.0\n"
          ]
        }
      ],
      "source": [
        "probabilidades_predichas = model.predict(val_x)\n",
        "modely = (probabilidades_predichas > 0.5).astype(int)\n",
        "f1 = f1_score(val_y, modely)\n",
        "print(modely)\n",
        "print(f1)"
      ]
    },
    {
      "cell_type": "markdown",
      "metadata": {
        "id": "BjmVt0tMHzkm"
      },
      "source": [
        "La salida anterior del resultado parece predecir que todo en la respuesta negativa obtendrá la preditoína alta, lo cual no es lo que estamos buscando con el modelo."
      ]
    },
    {
      "cell_type": "code",
      "execution_count": 32,
      "metadata": {
        "colab": {
          "base_uri": "https://localhost:8080/"
        },
        "id": "8BW3nTk5GqGP",
        "outputId": "b4e90162-a9ba-4055-c249-8ff85d50548c"
      },
      "outputs": [
        {
          "name": "stdout",
          "output_type": "stream",
          "text": [
            "              precision    recall  f1-score   support\n",
            "\n",
            "           0       0.94      1.00      0.97      1203\n",
            "           1       0.00      0.00      0.00        75\n",
            "\n",
            "    accuracy                           0.94      1278\n",
            "   macro avg       0.47      0.50      0.48      1278\n",
            "weighted avg       0.89      0.94      0.91      1278\n",
            "\n",
            "[[1203    0]\n",
            " [  75    0]]\n"
          ]
        },
        {
          "name": "stderr",
          "output_type": "stream",
          "text": [
            "/usr/local/lib/python3.10/dist-packages/sklearn/metrics/_classification.py:1344: UndefinedMetricWarning: Precision and F-score are ill-defined and being set to 0.0 in labels with no predicted samples. Use `zero_division` parameter to control this behavior.\n",
            "  _warn_prf(average, modifier, msg_start, len(result))\n",
            "/usr/local/lib/python3.10/dist-packages/sklearn/metrics/_classification.py:1344: UndefinedMetricWarning: Precision and F-score are ill-defined and being set to 0.0 in labels with no predicted samples. Use `zero_division` parameter to control this behavior.\n",
            "  _warn_prf(average, modifier, msg_start, len(result))\n",
            "/usr/local/lib/python3.10/dist-packages/sklearn/metrics/_classification.py:1344: UndefinedMetricWarning: Precision and F-score are ill-defined and being set to 0.0 in labels with no predicted samples. Use `zero_division` parameter to control this behavior.\n",
            "  _warn_prf(average, modifier, msg_start, len(result))\n"
          ]
        }
      ],
      "source": [
        "print(classification_report(val_y,modely))\n",
        "print(confusion_matrix(val_y,modely))"
      ]
    },
    {
      "cell_type": "markdown",
      "metadata": {
        "id": "zei-_A8tHgu0"
      },
      "source": [
        "como podemos ver la precisión es bastante alta, pero el f1-score es demasiado bajo.\n",
        "Lo que nos confirma que nuestro modelo no funcionará para las personas enfermas que realmente necesitan tratamiento."
      ]
    },
    {
      "cell_type": "markdown",
      "metadata": {
        "id": "iKKQotcUIYcY"
      },
      "source": [
        "### Modelo de RandomForest"
      ]
    },
    {
      "cell_type": "code",
      "execution_count": 33,
      "metadata": {
        "id": "sfgFs9WXIi3c"
      },
      "outputs": [],
      "source": [
        "from sklearn.ensemble import RandomForestClassifier"
      ]
    },
    {
      "cell_type": "code",
      "execution_count": 34,
      "metadata": {
        "colab": {
          "base_uri": "https://localhost:8080/"
        },
        "id": "9TghM2dYIpEF",
        "outputId": "9992b0bd-d963-4c17-f1b5-0e2b43d96e61"
      },
      "outputs": [
        {
          "name": "stdout",
          "output_type": "stream",
          "text": [
            "[[1200    3]\n",
            " [  75    0]]\n",
            "              precision    recall  f1-score   support\n",
            "\n",
            "           0       0.94      1.00      0.97      1203\n",
            "           1       0.00      0.00      0.00        75\n",
            "\n",
            "    accuracy                           0.94      1278\n",
            "   macro avg       0.47      0.50      0.48      1278\n",
            "weighted avg       0.89      0.94      0.91      1278\n",
            "\n"
          ]
        }
      ],
      "source": [
        "rf = RandomForestClassifier(random_state=42)\n",
        "rf.fit(train_x, train_y)\n",
        "rf_pred = rf.predict(val_x)\n",
        "print(confusion_matrix(val_y, rf_pred))\n",
        "print(classification_report(val_y,rf_pred ))"
      ]
    },
    {
      "cell_type": "markdown",
      "metadata": {
        "id": "nGAH89azIsHT"
      },
      "source": [
        "### Modelo de Regresión"
      ]
    },
    {
      "cell_type": "code",
      "execution_count": 35,
      "metadata": {
        "id": "ukSBLbxNIwNG"
      },
      "outputs": [],
      "source": [
        "from sklearn.linear_model import LogisticRegression"
      ]
    },
    {
      "cell_type": "code",
      "execution_count": 36,
      "metadata": {
        "colab": {
          "base_uri": "https://localhost:8080/"
        },
        "id": "OFV8qKrvI0ac",
        "outputId": "cf599fb0-eea8-414d-93b4-f61f94d87346"
      },
      "outputs": [
        {
          "name": "stdout",
          "output_type": "stream",
          "text": [
            "[[1200    3]\n",
            " [  75    0]]\n",
            "              precision    recall  f1-score   support\n",
            "\n",
            "           0       0.94      1.00      0.97      1203\n",
            "           1       0.00      0.00      0.00        75\n",
            "\n",
            "    accuracy                           0.94      1278\n",
            "   macro avg       0.47      0.50      0.48      1278\n",
            "weighted avg       0.89      0.94      0.91      1278\n",
            "\n"
          ]
        }
      ],
      "source": [
        "lr=LogisticRegression(random_state=42)\n",
        "lr.fit(train_x, train_y)\n",
        "y_pred_lr = lr.predict(val_x)\n",
        "print(confusion_matrix(val_y, rf_pred))\n",
        "print(classification_report(val_y,rf_pred ))"
      ]
    }
  ],
  "metadata": {
    "colab": {
      "provenance": []
    },
    "kernelspec": {
      "display_name": "Python 3",
      "name": "python3"
    },
    "language_info": {
      "name": "python",
      "version": "3.11.6"
    }
  },
  "nbformat": 4,
  "nbformat_minor": 0
}
